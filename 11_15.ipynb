{
  "nbformat": 4,
  "nbformat_minor": 0,
  "metadata": {
    "colab": {
      "name": "11.15.ipynb",
      "provenance": [],
      "collapsed_sections": [],
      "authorship_tag": "ABX9TyMntGl9C2xNb5C/ZDxqZles",
      "include_colab_link": true
    },
    "kernelspec": {
      "name": "python3",
      "display_name": "Python 3"
    },
    "language_info": {
      "name": "python"
    }
  },
  "cells": [
    {
      "cell_type": "markdown",
      "metadata": {
        "id": "view-in-github",
        "colab_type": "text"
      },
      "source": [
        "<a href=\"https://colab.research.google.com/github/Wonhee2100461/2100461/blob/main/11_15.ipynb\" target=\"_parent\"><img src=\"https://colab.research.google.com/assets/colab-badge.svg\" alt=\"Open In Colab\"/></a>"
      ]
    },
    {
      "cell_type": "code",
      "metadata": {
        "colab": {
          "base_uri": "https://localhost:8080/"
        },
        "id": "J7xCKIryQ8el",
        "outputId": "f8d74fc3-6acf-42f9-b436-15c935e53146"
      },
      "source": [
        "score=int(input(\"성적을 입력하시오: \"))\n",
        "\n",
        "if score>= 90:\n",
        "    print(\"A학점입니다.\")\n",
        "elif score>=80:\n",
        "    print(\"B학점입니다.\")\n",
        "elif score>=70:\n",
        "    print(\"c학점입니다.\")\n",
        "elif score>=60:\n",
        "    print(\"D학점입니다.\")\n",
        "else:\n",
        "    print(\"F학점입니다.\")"
      ],
      "execution_count": 3,
      "outputs": [
        {
          "output_type": "stream",
          "name": "stdout",
          "text": [
            "성적을 입력하시오: 94\n",
            "A학점입니다.\n"
          ]
        }
      ]
    }
  ]
}