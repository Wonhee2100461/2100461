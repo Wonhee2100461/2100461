{
  "nbformat": 4,
  "nbformat_minor": 0,
  "metadata": {
    "colab": {
      "name": "practice problem 4.ipynb",
      "provenance": [],
      "collapsed_sections": [],
      "authorship_tag": "ABX9TyNqxBPh7Ap+gn/YOytg3gUW",
      "include_colab_link": true
    },
    "kernelspec": {
      "name": "python3",
      "display_name": "Python 3"
    },
    "language_info": {
      "name": "python"
    }
  },
  "cells": [
    {
      "cell_type": "markdown",
      "metadata": {
        "id": "view-in-github",
        "colab_type": "text"
      },
      "source": [
        "<a href=\"https://colab.research.google.com/github/Wonhee2100461/2100461/blob/main/practice_problem_4.ipynb\" target=\"_parent\"><img src=\"https://colab.research.google.com/assets/colab-badge.svg\" alt=\"Open In Colab\"/></a>"
      ]
    },
    {
      "cell_type": "markdown",
      "metadata": {
        "id": "Y4zJAJihSN48"
      },
      "source": [
        "1. 왜 다음과 같은 수식이 오류를 발생시키는가? 올바르게 수정하라.\n",
        "\n",
        "'나는'+ 12 + '개의 사과를 먹었다.'"
      ]
    },
    {
      "cell_type": "code",
      "metadata": {
        "id": "LVVgmysMSJ2a",
        "colab": {
          "base_uri": "https://localhost:8080/",
          "height": 35
        },
        "outputId": "3e4fbfbf-eaa5-47af-e4be-064f4a914f5c"
      },
      "source": [
        "'나는 ' + str(12) + '개의 사과를 먹었다.'"
      ],
      "execution_count": 2,
      "outputs": [
        {
          "output_type": "execute_result",
          "data": {
            "application/vnd.google.colaboratory.intrinsic+json": {
              "type": "string"
            },
            "text/plain": [
              "'나는 12개의 사과를 먹었다.'"
            ]
          },
          "metadata": {},
          "execution_count": 2
        }
      ]
    },
    {
      "cell_type": "markdown",
      "metadata": {
        "id": "pVRDUXNCSOTj"
      },
      "source": [
        "2. 다음과 같은 수식을 계산하면 결과는 무엇인가?\n",
        "\n",
        "'apple' + 'grape'\n",
        "\n",
        "'apple' * 3"
      ]
    },
    {
      "cell_type": "code",
      "metadata": {
        "id": "DM8i6oz6SOmK",
        "colab": {
          "base_uri": "https://localhost:8080/"
        },
        "outputId": "05be6903-99ce-4691-9ac3-aeb2ef8b9615"
      },
      "source": [
        "print('apple' + 'grape')\n",
        "print('apple' * 3)"
      ],
      "execution_count": 1,
      "outputs": [
        {
          "output_type": "stream",
          "name": "stdout",
          "text": [
            "applegrape\n",
            "appleappleapple\n"
          ]
        }
      ]
    },
    {
      "cell_type": "markdown",
      "metadata": {
        "id": "SJGexqHgtZvj"
      },
      "source": [
        "3. 다음과 같이 사용자가 입력한 문자열 중에서 처음 2글자와 마지막 2 글자를 추출한 후에 이들을 합쳐서 출력해보자."
      ]
    },
    {
      "cell_type": "code",
      "metadata": {
        "id": "DKOSX4EntaIC",
        "colab": {
          "base_uri": "https://localhost:8080/"
        },
        "outputId": "87d70c86-7334-4ba7-b285-5673059a1b0d"
      },
      "source": [
        "str = input(\"문자열을 입력하시오: \")\n",
        "s = str[0:2] + str[-2:]\n",
        "\n",
        "print(s)"
      ],
      "execution_count": 3,
      "outputs": [
        {
          "output_type": "stream",
          "name": "stdout",
          "text": [
            "문자열을 입력하시오: 군산대학교\n",
            "군산학교\n"
          ]
        }
      ]
    },
    {
      "cell_type": "markdown",
      "metadata": {
        "id": "iteolWwV5CYt"
      },
      "source": [
        "4. 다음과 같이 사용자가 입력한 문자열 뒤에 항상 \"하는 중\"를 붙이는 프로그램을 작성해 보자."
      ]
    },
    {
      "cell_type": "code",
      "metadata": {
        "id": "Rsq6wSqH5Cs6",
        "colab": {
          "base_uri": "https://localhost:8080/"
        },
        "outputId": "d48fca01-b136-44cb-d70d-09e8b7a58329"
      },
      "source": [
        "s=input(\"문자열을 입력하시오: \")\n",
        "s += \"하는 중\"\n",
        "print(s)"
      ],
      "execution_count": 4,
      "outputs": [
        {
          "output_type": "stream",
          "name": "stdout",
          "text": [
            "문자열을 입력하시오: sentry\n",
            "sentry하는 중\n"
          ]
        }
      ]
    },
    {
      "cell_type": "markdown",
      "metadata": {
        "id": "O4Urb1Pg5cuC"
      },
      "source": [
        "5. 사용자가 입력한 기호 안에 문자열을 삽입하려면 어떻게 해야 하는가? 기호는 문자 2개로 이루어있다고 가정한다."
      ]
    },
    {
      "cell_type": "code",
      "metadata": {
        "id": "rsbv8_Xa5dFR",
        "colab": {
          "base_uri": "https://localhost:8080/"
        },
        "outputId": "38c0bfde-6d0c-4f60-ac41-ef71dc82036c"
      },
      "source": [
        "str=input(\"기호를 입력하시오: \")\n",
        "word=input(\"중간에 삽입할 문자열을 입력하시오: \")\n",
        "s = str[:1] + word + str[1:]\n",
        "\n",
        "print(s)"
      ],
      "execution_count": 5,
      "outputs": [
        {
          "output_type": "stream",
          "name": "stdout",
          "text": [
            "기호를 입력하시오: $\n",
            "중간에 삽입할 문자열을 입력하시오: 4\n",
            "$4\n"
          ]
        }
      ]
    },
    {
      "cell_type": "markdown",
      "metadata": {
        "id": "1laBn40W6b1K"
      },
      "source": [
        "6. 4개의 숫자가 들어 있는 리스트가 있다. 리스트 안의 숫자들을 꺼내서 합계를 계산라여 출력하는 프로그램을 작성하라. 반복문은 사용하지 않는다. 라스트의 길이는 항상 4라고 가정한다."
      ]
    },
    {
      "cell_type": "code",
      "metadata": {
        "id": "wRctvr_06cUT",
        "colab": {
          "base_uri": "https://localhost:8080/"
        },
        "outputId": "8d232c9b-3a7d-48ae-c188-294d50f996bf"
      },
      "source": [
        "lista = [1, 2, 3, 4]\n",
        "sum = 0\n",
        "sum = lista[0] + lista[1] + lista[2] + lista[3]\n",
        "print(\"리스트 = \", lista)\n",
        "print(\"리스트 숫자들의 합 = \", sum)"
      ],
      "execution_count": 6,
      "outputs": [
        {
          "output_type": "stream",
          "name": "stdout",
          "text": [
            "리스트 =  [1, 2, 3, 4]\n",
            "리스트 숫자들의 합 =  10\n"
          ]
        }
      ]
    },
    {
      "cell_type": "markdown",
      "metadata": {
        "id": "HqcDarxv7D8C"
      },
      "source": [
        "7. 사용자가 입력하는 3가지 색상을 리스트에 저장하였다가 하나씩 꺼내서 그 색상으로 채워진 원을 그리는 프로그램을 작성해보자. 반복문은 사용하지 않는다. 채워진 원을 그릴려면 다음과 같은 문장들을 사용한다.\n",
        "\n",
        "t.fiⅡcoIor(\"yeⅡow\")\n",
        "\n",
        "t.begin_fill()\n",
        "\n",
        "t.circIe(50) \n",
        "\n",
        "t.end_fill()\n"
      ]
    },
    {
      "cell_type": "code",
      "metadata": {
        "id": "cOjfGFC17EMi"
      },
      "source": [
        "import turtle\n",
        "t = turtle.Turtle()\n",
        "t.shape(\"turtle\")\n",
        "\n",
        "lista = [ ]\n",
        "color = input(\"색상 #1을 입력하시오: \")\n",
        "lista.append(color)\n",
        "color = input(\"색상 #2을 입력하시오: \")\n",
        "lista.append(color)\n",
        "color = input(\"색상 #3을 입력하시오: \")\n",
        "lista.append(color)\n",
        "\n",
        "t.fillcolor(lista[0])\n",
        "t.begin_fill()\n",
        "t.circle(50)\n",
        "t.end_fill()\n",
        "\n",
        "t.up()\n",
        "t.goto(100, 0)\n",
        "t.down()\n",
        "t.fillcolor(lista[1])\n",
        "t.begin_fill()\n",
        "t.circle(50)\n",
        "t.end_fill()\n",
        "\n",
        "t.up()\n",
        "t.goto(200, 0)\n",
        "t.down()\n",
        "t.fillcolor(lista[2])\n",
        "t.begin_fill()\n",
        "t.circle(50)\n",
        "t.end_fill()\n",
        "t._screen.exitonclick()"
      ],
      "execution_count": null,
      "outputs": []
    },
    {
      "cell_type": "markdown",
      "metadata": {
        "id": "m0S_dqwIcUOk"
      },
      "source": [
        "8. 사용자가 입력하는 3개의 좌표 (x,y)를 리스트에 저장한다. 이들 좌표를 꺼내서 거북이를 이동하는 프로그램을 작성해보자."
      ]
    },
    {
      "cell_type": "code",
      "metadata": {
        "id": "lBUzZRGacUel"
      },
      "source": [
        "import turtle\n",
        "t = turtle.Turtle()\n",
        "t.shape(\"turtle\")\n",
        "\n",
        "lista = [ ]\n",
        "lista.append(int(input(\"x1: \")))\n",
        "lista.append(int(input(\"y1: \")))\n",
        "lista.append(int(input(\"x2: \")))\n",
        "lista.append(int(input(\"y2: \")))\n",
        "lista.append(int(input(\"x3: \")))\n",
        "lista.append(int(input(\"y3: \")))\n",
        "\n",
        "t.goto(lista[0], lista[1])\n",
        "t.goto(lista[2], lista[3])\n",
        "t.goto(lista[4], lista[5])\n",
        "t._screen.exitonclick()"
      ],
      "execution_count": null,
      "outputs": []
    }
  ]
}