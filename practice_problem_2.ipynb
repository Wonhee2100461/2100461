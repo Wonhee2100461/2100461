{
  "nbformat": 4,
  "nbformat_minor": 0,
  "metadata": {
    "colab": {
      "name": "practice problem 2.ipynb",
      "provenance": [],
      "authorship_tag": "ABX9TyPduUKZ7VugIuSrPVS6hLNJ",
      "include_colab_link": true
    },
    "kernelspec": {
      "name": "python3",
      "display_name": "Python 3"
    },
    "language_info": {
      "name": "python"
    }
  },
  "cells": [
    {
      "cell_type": "markdown",
      "metadata": {
        "id": "view-in-github",
        "colab_type": "text"
      },
      "source": [
        "<a href=\"https://colab.research.google.com/github/Wonhee2100461/2100461/blob/main/practice_problem_2.ipynb\" target=\"_parent\"><img src=\"https://colab.research.google.com/assets/colab-badge.svg\" alt=\"Open In Colab\"/></a>"
      ]
    },
    {
      "cell_type": "markdown",
      "metadata": {
        "id": "BIAaaUV6hcyt"
      },
      "source": [
        "1. 사용자한테 이름과 나이를 입력하게 한다. 사용자가 100살이 되는 연도를 화면에 출력하는 프로그램을 작성하라."
      ]
    },
    {
      "cell_type": "code",
      "metadata": {
        "colab": {
          "base_uri": "https://localhost:8080/"
        },
        "id": "0eDdnwWNf_Li",
        "outputId": "dcce6931-ba43-4c3b-a1e8-5e9615e2f76c"
      },
      "source": [
        "name=input(\"이름을 입력하시오.: \")\n",
        "age=int(input(\"나이를 입력하시오: \"))\n",
        "year=2021-age+100\n",
        "print(name+\"씨는\"+str(year)+\"년에 100살이시네요!\")"
      ],
      "execution_count": 1,
      "outputs": [
        {
          "output_type": "stream",
          "name": "stdout",
          "text": [
            "이름을 입력하시오.: 이원희\n",
            "나이를 입력하시오: 20\n",
            "이원희씨는2101년에 100살이시네요!\n"
          ]
        }
      ]
    },
    {
      "cell_type": "markdown",
      "metadata": {
        "id": "YO1EE0GOhb6u"
      },
      "source": [
        "2. 사용자로부터 3개의 숫자를 받아서 평균을 계산하고 결과를 출력하는 프로그램을 작성하라."
      ]
    },
    {
      "cell_type": "code",
      "metadata": {
        "colab": {
          "base_uri": "https://localhost:8080/"
        },
        "id": "UQSO1JxFjL8E",
        "outputId": "5bf2397b-ce92-4483-906e-9b28d953a53d"
      },
      "source": [
        "n1=int(input(\"첫 번째 숫자를 입력하시오.\"))\n",
        "n2=int(input(\"두 번쨰 숫자를 입력하시오\"))\n",
        "n3=int(input(\"세 번쨰 숫자를 입력하시오\"))\n",
        "\n",
        "average=(n1+n2+n3)/3\n",
        "\n",
        "print(n1, n2, n3, \"의 평균은\", average, \"입니다.\")"
      ],
      "execution_count": 3,
      "outputs": [
        {
          "output_type": "stream",
          "name": "stdout",
          "text": [
            "첫 번째 숫자를 입력하시오.6\n",
            "두 번쨰 숫자를 입력하시오54\n",
            "세 번쨰 숫자를 입력하시오76\n",
            "6 54 76 의 평균은 45.333333333333336 입니다.\n"
          ]
        }
      ]
    },
    {
      "cell_type": "markdown",
      "metadata": {
        "id": "Y4gAjhV8jXIF"
      },
      "source": [
        "3. 사용자로부터 원의 반지름을 입력받아서 원의 변적을 계산하는 프로그램을 작성해보자."
      ]
    },
    {
      "cell_type": "code",
      "metadata": {
        "colab": {
          "base_uri": "https://localhost:8080/"
        },
        "id": "CoidyWIMjXZN",
        "outputId": "0336fae4-ff13-4797-9b36-41bcb9346216"
      },
      "source": [
        "radius=int(input(\"반지름을 입력하시오: \"))\n",
        "area=3.141592*radius*radius\n",
        "print(\"반지름이\", radius, \"인 원의 넓이=\", area, \"입니다.\")"
      ],
      "execution_count": 2,
      "outputs": [
        {
          "output_type": "stream",
          "name": "stdout",
          "text": [
            "반지름을 입력하시오: 4\n",
            "반지름이 4 인 원의 넓이= 50.265472 입니다.\n"
          ]
        }
      ]
    },
    {
      "cell_type": "markdown",
      "metadata": {
        "id": "dt0pr3jYjXpE"
      },
      "source": [
        "4. 원의 반지름을 변수 radius에 저장한다. radius의 초기값은 50이다. radius 변수를 20씩 증가시키면서 (0,0), (100,0), (200,0) 좌표에 원을 3개 그려보자. 터틀 그래픽을 이용하고 반복문은 사용하지 않는다."
      ]
    },
    {
      "cell_type": "code",
      "metadata": {
        "id": "VfRyqR99jYJ0"
      },
      "source": [
        "import turtle\n",
        "t = turtle.Turtle()\n",
        "t.shape(\"turtle\")\n",
        "\n",
        "radius=50\n",
        "t.up()\n",
        "t.goto(0, 0)\n",
        "t.down()\n",
        "t.circle(radius)\n",
        "\n",
        "radius = radius + 20\n",
        "t.up()\n",
        "t.goto(100, 0)\n",
        "t.down()\n",
        "t.circle(radius)\n",
        "\n",
        "radius = radius + 20\n",
        "t.up()\n",
        "t.goto(200, 0)\n",
        "t.down()\n",
        "t.circle(radius)\n",
        "t._screen.exitonclick()"
      ],
      "execution_count": null,
      "outputs": []
    },
    {
      "cell_type": "markdown",
      "metadata": {
        "id": "bl176v2ZjYXk"
      },
      "source": [
        "5. 삼각형의 한 변의 길이를 side 변수로 나타낸다. side의 변수의 초기값은 100이다. side의 변수를 이용하여 화면에 삼각형을 그려보자."
      ]
    },
    {
      "cell_type": "code",
      "metadata": {
        "id": "loeAN1K7jY2M"
      },
      "source": [
        "import turtle\n",
        "t = turtle.Turtle()\n",
        "t.shape(\"turtle\")\n",
        "\n",
        "side=50\n",
        "t.forward(side)\n",
        "t.left(120)\n",
        "t.forward(side)\n",
        "t.left(120)\n",
        "t.forward(side)\n",
        "t.left(120)\n",
        "t._screen.exitonclick()"
      ],
      "execution_count": null,
      "outputs": []
    },
    {
      "cell_type": "markdown",
      "metadata": {
        "id": "Q3rrl19YkNsV"
      },
      "source": [
        "6. 5번 문제에서 우리는 삼각형 한 변의 길이를 side 변수로 표시했었다. 만약 우리가 삼각형 한변의 길이를 200으로 변경한다고 하자. 5번 코드에서 어디만 수정하면 되는가?"
      ]
    },
    {
      "cell_type": "code",
      "metadata": {
        "id": "fDBClCd6kN9E"
      },
      "source": [
        "import turtle\n",
        "t = turtle.Turtle()\n",
        "t.shape(\"turtle\")\n",
        "\n",
        "side=200\n",
        "t.forward(side)\n",
        "t.left(120)\n",
        "t.forward(side)\n",
        "t.left(120)\n",
        "t.forward(side)\n",
        "t.left(120)\n",
        "t._screen.exitonclick()"
      ],
      "execution_count": null,
      "outputs": []
    },
    {
      "cell_type": "markdown",
      "metadata": {
        "id": "yEYofc61kOSk"
      },
      "source": [
        "7. 다음과 같은 그림을 그리는 프로그램을 작성하시오. 이떄 작은 사각형의 한 변의 길이를 side 변수에 저장하고 거북이가 회전하는 각도는 angle 변수에 저장한다."
      ]
    },
    {
      "cell_type": "code",
      "metadata": {
        "id": "l9OT6TRPkOqU"
      },
      "source": [
        "import turtle\n",
        "t = turtle.Turtle()\n",
        "t.shape(\"turtle\")\n",
        "side = 50\n",
        "angle = 90\n",
        "\n",
        "t.forward(side); t.right(angle); t.forward(side); t.right(angle);t.forward(side);\n",
        "t.right(angle); t.forward(side) \n",
        "\n",
        "t.forward(side); t.right(angle); t.forward(side); t.right(angle); t.forward(side)\n",
        "t.right(angle); t.forward(100); t.right(180)\n",
        "\n",
        "t.forward(side); t.right(angle); t.forward(side); t.right(angle); t.forward(side);\n",
        "t.right(angle); t.forward(side)\n",
        "\n",
        "t.forward(side); t.right(angle); t.forward(side); t.right(angle); t.forward(side)\n",
        "t.write(\"닫으려면 화면 클릭\"); t._screen.exitonclick()"
      ],
      "execution_count": null,
      "outputs": []
    }
  ]
}