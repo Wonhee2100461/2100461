{
  "nbformat": 4,
  "nbformat_minor": 0,
  "metadata": {
    "colab": {
      "name": "challenge question 6.ipynb",
      "provenance": [],
      "collapsed_sections": [],
      "authorship_tag": "ABX9TyNTVVDt/HJgbrMEyCy26niR",
      "include_colab_link": true
    },
    "kernelspec": {
      "name": "python3",
      "display_name": "Python 3"
    },
    "language_info": {
      "name": "python"
    }
  },
  "cells": [
    {
      "cell_type": "markdown",
      "metadata": {
        "id": "view-in-github",
        "colab_type": "text"
      },
      "source": [
        "<a href=\"https://colab.research.google.com/github/Wonhee2100461/2100461/blob/main/challenge_question_6.ipynb\" target=\"_parent\"><img src=\"https://colab.research.google.com/assets/colab-badge.svg\" alt=\"Open In Colab\"/></a>"
      ]
    },
    {
      "cell_type": "code",
      "metadata": {
        "id": "9M0CnSKmLn-C"
      },
      "source": [
        "#1\n",
        "import turtle\n",
        "t = turtle.Turtle()\n",
        "t.shape(\"turtle\")\n",
        "\n",
        "for i in range(6):\n",
        "t.forward(100)\n",
        "t.left(360/6)"
      ],
      "execution_count": null,
      "outputs": []
    },
    {
      "cell_type": "code",
      "metadata": {
        "id": "FpbkXGCFNGCa"
      },
      "source": [
        "#2\n",
        "import turtle\n",
        "t = turtle.Turtle()\n",
        "t.shape(\"turtle\")\n",
        "\n",
        "s = turtle.textinput(\"\",\"몇각형을 원하시나요? : \")\n",
        "n = int(s)\n",
        "s = turtle.textinput(\"\",\"한변의 크기를 입력해주세요 : \")\n",
        "len = int(s)\n",
        "for i in range(n):\n",
        "      t.forward(len)\n",
        "      t.left(360/n)"
      ],
      "execution_count": null,
      "outputs": []
    },
    {
      "cell_type": "code",
      "metadata": {
        "id": "4mCzzP2mNWAa"
      },
      "source": [
        "#3\n",
        "import turtle\n",
        "import random\n",
        "t = turtle.Turtle()\n",
        "t.shape(\"turtle\")\n",
        "\n",
        "for i in range(30):\n",
        "    length = random.randint(1,100)\n",
        "    t.forward(length)\n",
        "    angle = random.randint(1,4)\n",
        "    t.right(90 * angle)"
      ],
      "execution_count": null,
      "outputs": []
    },
    {
      "cell_type": "code",
      "metadata": {
        "id": "01NNfSayOD7K"
      },
      "source": [
        "#4\n",
        "i = 1\n",
        "while i <= 9:\n",
        "    j = 1\n",
        "    while j <= 9:\n",
        "          print(i, \"*\", j, \"=\", i*j)\n",
        "          j = j+1\n",
        "    print(\" \")\n",
        "    i = i+1"
      ],
      "execution_count": null,
      "outputs": []
    },
    {
      "cell_type": "code",
      "metadata": {
        "id": "9b9AcGGQOOnq"
      },
      "source": [
        "#5\n",
        "t = turtle.Turtle()\n",
        "t.shape(\"turtle\")\n",
        "\n",
        "i = 0\n",
        "while i < 5:\n",
        "    t.forward(50)\n",
        "    t.right(144)"
      ],
      "execution_count": null,
      "outputs": []
    },
    {
      "cell_type": "code",
      "metadata": {
        "id": "jLCsA11raBkQ"
      },
      "source": [
        "#6\n",
        "import turtle\n",
        "import random\n",
        "\n",
        "colors = [\"red\", \"purple\", \"blue\", \"green\", \"yellow\", \"orange\"]\n",
        "t = turtle.Turtle()\n",
        "\n",
        "turtle.bgcolor(\"black\")\n",
        "# 거북이의 속도는 0으로 설정하면 최대가 된다.\n",
        "t.speed(0)\n",
        "# 거북이가 그리는 선의 두께는 width()를 호출하면 된다.\n",
        "t.width(3)\n",
        "length = 10 # 초기 선의 길이는 10으로 한다.\n",
        "#while 반복문이다. 선의 길이가 500보다 작으면 반복한다.\n",
        "while length < 500:\n",
        "t.forward(length)\n",
        "t.pencolor(colors[length%6])\n",
        "angle = random.randint(1,100)\n",
        "t.right(angle)\n",
        "length += 5"
      ],
      "execution_count": null,
      "outputs": []
    }
  ]
}