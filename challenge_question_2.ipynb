{
  "nbformat": 4,
  "nbformat_minor": 0,
  "metadata": {
    "colab": {
      "name": "challenge question 2.ipynb",
      "provenance": [],
      "authorship_tag": "ABX9TyN/+Euj6/8GW+dXv6m8w8UF",
      "include_colab_link": true
    },
    "kernelspec": {
      "name": "python3",
      "display_name": "Python 3"
    },
    "language_info": {
      "name": "python"
    }
  },
  "cells": [
    {
      "cell_type": "markdown",
      "metadata": {
        "id": "view-in-github",
        "colab_type": "text"
      },
      "source": [
        "<a href=\"https://colab.research.google.com/github/Wonhee2100461/2100461/blob/main/challenge_question_2.ipynb\" target=\"_parent\"><img src=\"https://colab.research.google.com/assets/colab-badge.svg\" alt=\"Open In Colab\"/></a>"
      ]
    },
    {
      "cell_type": "code",
      "metadata": {
        "id": "vgAgrtelLIJW"
      },
      "source": [
        "#1\n"
      ],
      "execution_count": null,
      "outputs": []
    },
    {
      "cell_type": "code",
      "metadata": {
        "id": "lH4WGH8HLPoC"
      },
      "source": [
        "#2\n",
        "import turtle\n",
        "t = turtle.Turtle()\n",
        "t.shape(\"turtle\")\n",
        "\n",
        "radius = 50\n",
        "x = 30\n",
        "t.circle(radius)\n",
        "t.fd(x)\n",
        "t.circle(radius)\n",
        "x = 50\n",
        "t.fd(x)\n",
        "t.circle(radius)"
      ],
      "execution_count": null,
      "outputs": []
    },
    {
      "cell_type": "code",
      "metadata": {
        "id": "dteUZqfcLP5h"
      },
      "source": [
        "#3\n",
        "x = int(input(\"첫 번째 정수를 입력하시오: \"))\n",
        "y = int(input(\"두 번째 정수를 입력하시오: \"))\n",
        "\n",
        "print(x, \" + \", y, \" = \", x + y)\n",
        "print(x, \" - \", y, \" = \", x - y)\n",
        "print(x, \" * \", y, \" = \", x * y)\n",
        "print(x, \" / \", y, \" = \", x / y)"
      ],
      "execution_count": null,
      "outputs": []
    },
    {
      "cell_type": "code",
      "metadata": {
        "id": "XW9QhjvDLQCx"
      },
      "source": [
        "#4\n",
        "name = input(\"이름을 입력하시오: \")\n",
        "print(name, \" 씨, 안녕하세요?\")\n",
        "print(\"파이썬에 오신 것을 환영합니다.\")\n",
        "x = int(input(\"첫 번째 정수를 입력하시오: \"))\n",
        "y = int(input(\"두 번째 정수를 입력하시오: \"))\n",
        "print(x, \" 과 \", y, \" 의 합은 \", x + y, \" 입니다.\")"
      ],
      "execution_count": null,
      "outputs": []
    }
  ]
}