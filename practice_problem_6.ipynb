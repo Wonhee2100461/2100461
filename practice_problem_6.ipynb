{
  "nbformat": 4,
  "nbformat_minor": 0,
  "metadata": {
    "colab": {
      "name": "practice  problem 6.ipynb",
      "provenance": [],
      "collapsed_sections": [],
      "authorship_tag": "ABX9TyNYkbSci1xP+MMmUq/7NRqa",
      "include_colab_link": true
    },
    "kernelspec": {
      "name": "python3",
      "display_name": "Python 3"
    },
    "language_info": {
      "name": "python"
    }
  },
  "cells": [
    {
      "cell_type": "markdown",
      "metadata": {
        "id": "view-in-github",
        "colab_type": "text"
      },
      "source": [
        "<a href=\"https://colab.research.google.com/github/Wonhee2100461/2100461/blob/main/practice_problem_6.ipynb\" target=\"_parent\"><img src=\"https://colab.research.google.com/assets/colab-badge.svg\" alt=\"Open In Colab\"/></a>"
      ]
    },
    {
      "cell_type": "markdown",
      "metadata": {
        "id": "sPWJ4A3Co3EY"
      },
      "source": [
        "1. 2부터 100 사이의 모든 짝수를 출력하는 반복 루프를 작성한다."
      ]
    },
    {
      "cell_type": "code",
      "metadata": {
        "id": "FHh1BRBwo2ny"
      },
      "source": [
        "for i in range(2, 101):\n",
        "      if i%2==0 :\n",
        "         print(i,end = \" \")"
      ],
      "execution_count": null,
      "outputs": []
    },
    {
      "cell_type": "markdown",
      "metadata": {
        "id": "kWphuSCAo3SX"
      },
      "source": [
        "2. 어떤 사람이 복리이자율 7%로 1000만원을 저금했을 경우에 2000만원이 되는데 몇 년이 걸리는지 계산하기 위하여 다음괴 코드를 작성하였다. 잘못된 점은 없는지 체크해보자"
      ]
    },
    {
      "cell_type": "code",
      "metadata": {
        "id": "2dQyPW2MoIEb"
      },
      "source": [
        "year = 0\n",
        "balance = 1000\n",
        "\n",
        "while balance <= 2000 :\n",
        "      year = year + 1\n",
        "      interest = balance * 0.07\n",
        "      balance = balance + interest\n",
        "print(year, \"년이 걸립니다.\")"
      ],
      "execution_count": null,
      "outputs": []
    },
    {
      "cell_type": "markdown",
      "metadata": {
        "id": "0Bvpzu63o3sP"
      },
      "source": [
        "3. 다음 코드의 출력을 예상해보자. 각 단계에서 변수의 값을 예상해보시오."
      ]
    },
    {
      "cell_type": "code",
      "metadata": {
        "id": "7a5SpENlo374"
      },
      "source": [
        ""
      ],
      "execution_count": null,
      "outputs": []
    },
    {
      "cell_type": "markdown",
      "metadata": {
        "id": "gtiyBFnADlze"
      },
      "source": [
        "4. 사용자에게 곱셈 퀴즈를 내고 답을 사용자로붕터 받는 프로그램에서 사용자가 올바른 답을 입력할 때까지 반복하도록 수정하여 보자."
      ]
    },
    {
      "cell_type": "code",
      "metadata": {
        "id": "R6q-TWMeDmNw"
      },
      "source": [
        "ans = 0\n",
        "while ans != 3*9:\n",
        "    ans = int(input(\"3*9는\"))\n",
        "print(\"맞았습니다.\")"
      ],
      "execution_count": null,
      "outputs": []
    },
    {
      "cell_type": "markdown",
      "metadata": {
        "id": "23T7hJAuE6I8"
      },
      "source": [
        "5. 사용자가 입력한 정수의 합을 계산하는 프로그램을 작성하자. 사용자가 0을 입력하기 전까지 정수를 계속하여 읽도록 한다."
      ]
    },
    {
      "cell_type": "code",
      "metadata": {
        "id": "kqPiAI86E5xM"
      },
      "source": [
        "sum = 0\n",
        "while True:\n",
        "    x = int(input(\"정수를 입력하시오: \"))\n",
        "    if x == 0:\n",
        "       break;\n",
        "    sum = sum + x\n",
        "print(\"합은 \", sum, \"입니다.\")"
      ],
      "execution_count": null,
      "outputs": []
    },
    {
      "cell_type": "markdown",
      "metadata": {
        "id": "rwQ29xqLFEgr"
      },
      "source": [
        "6. 난수 생성 함수를 사용하여서 2개의 주사위를 던졌을 때 나오는 수를 다음과 같이 출력하여 보자."
      ]
    },
    {
      "cell_type": "code",
      "metadata": {
        "id": "Uu-xII7hFEzz"
      },
      "source": [
        "from random import randint\n",
        "\n",
        "for i in range(3) :\n",
        "  d1 = randint(1, 6)\n",
        "  d2 = randint(1, 6)\n",
        "  print(\"첫번째 주사위=\", d1, \"두번째 주사위=\", d2)"
      ],
      "execution_count": null,
      "outputs": []
    },
    {
      "cell_type": "markdown",
      "metadata": {
        "id": "KRPU6Jg_FMrD"
      },
      "source": [
        "7. 터틀 그래픽과 반복을 사용하는 눈 모양을 그려보자."
      ]
    },
    {
      "cell_type": "code",
      "metadata": {
        "id": "vS_4i7_VFNDa"
      },
      "source": [
        "import turtle\n",
        "\n",
        "t = turtle.Turtle()\n",
        "t.shape(\"turtle\")\n",
        "t.left(90)\n",
        "\n",
        "for i in range (1,7):\n",
        "    t.forward(100)\n",
        "    t.forward(-30)\n",
        "    t.left(60)\n",
        "    t.forward(30)\n",
        "    t.forward(-30)\n",
        "\n",
        "    t.right(120)\n",
        "    t.forward(30)\n",
        "    t.forward(-30)\n",
        "\n",
        "    t.left(60)\n",
        "    t.forward(-70)\n",
        "    t.left(60)"
      ],
      "execution_count": null,
      "outputs": []
    },
    {
      "cell_type": "markdown",
      "metadata": {
        "id": "lRDefGqEOJDj"
      },
      "source": [
        "8. 우리는 이번장에서 터틀 그래픽으로 별을 그려보았다. 이코드를 응용하여서 다음과 같이 10개의 별을 그리는 프로그램을 작성하라. 별들은 시작 각도가 조금씩 다르다. "
      ]
    },
    {
      "cell_type": "code",
      "metadata": {
        "id": "laMLRTPNOIrs"
      },
      "source": [
        "import turtle\n",
        "\n",
        "myPen = turtle.Turtle()\n",
        "myPen.speed(0)\n",
        "myPen.color(\"#FF0000\")\n",
        "\n",
        "for j in range (1,10):\n",
        "  for i in range (1,6):\n",
        "      myPen.left(144)\n",
        "      myPen.forward(200)\n",
        "  myPen.left(10)"
      ],
      "execution_count": null,
      "outputs": []
    },
    {
      "cell_type": "markdown",
      "metadata": {
        "id": "dw6bqYBNWnBF"
      },
      "source": [
        "9. 반복과 난수를 함꼐 사용하면 화면에 랜덤한 원을 그릴 수 있다. 화면에 10개의 램덤한 원을 그리는 프로그램을 작성하라. 원의 중심과 반지름이 모두 난수이어야 한다."
      ]
    },
    {
      "cell_type": "code",
      "metadata": {
        "id": "HPz-orZDWnUM"
      },
      "source": [
        "import turtle\n",
        "import random\n",
        "\n",
        "t = turtle.Turtle()\n",
        "t.shape(\"turtle\")\n",
        "\n",
        "for j in range (1,10):\n",
        "  t.up()\n",
        "  x = random.randint(-200, 200)\n",
        "  y = random.randint(-200, 200)\n",
        "  r = random.randint(10, 200)\n",
        "  t.goto(x, y)\n",
        "  t.down()\n",
        "  t.circle(r)"
      ],
      "execution_count": null,
      "outputs": []
    },
    {
      "cell_type": "markdown",
      "metadata": {
        "id": "GVSBfbH3WpUs"
      },
      "source": [
        "10. 다음과 같이 거북이를 왕복 달리기시키는 프로그램을 작성해보자."
      ]
    },
    {
      "cell_type": "code",
      "metadata": {
        "id": "B-sJLBL7Wpsk"
      },
      "source": [
        "import turtle\n",
        "\n",
        "t = turtle.Turtle()\n",
        "t.shape(\"turtle\")\n",
        "\n",
        "for i in range(5):\n",
        "    t.forward(200);\n",
        "    t.right(90)\n",
        "    t.forward(20);\n",
        "    t.right(90)\n",
        "    t.forward(200);\n",
        "    t.left(90)\n",
        "    t.forward(20);\n",
        "    t.left(90)"
      ],
      "execution_count": null,
      "outputs": []
    },
    {
      "cell_type": "code",
      "metadata": {
        "id": "7FnmSiVbjZdN"
      },
      "source": [
        "11. 다음의 터틀 그래픽 프로그램을 분석해보자. 학습하지 않은 함수가 있다면 인터넷에서 조사하여 보자."
      ],
      "execution_count": null,
      "outputs": []
    },
    {
      "cell_type": "code",
      "metadata": {
        "id": "3UvRgZT4eamN"
      },
      "source": [
        "import turtle\n",
        "t = turtle.Turtle()\n",
        "t.shape(\"turtle\")\n",
        "t.color('red', 'yellow')\n",
        "t.begin_fill()\n",
        "while True:\n",
        "    t.forward(200)\n",
        "    t.left(170)\n",
        "    if abs(t.pos()) < 1:\n",
        "       break\n",
        "t.end_fill()"
      ],
      "execution_count": null,
      "outputs": []
    },
    {
      "cell_type": "markdown",
      "metadata": {
        "id": "piKLxq7wea9N"
      },
      "source": [
        "12. 터틀 그래픽과 반복을 사용하여 싸인 그래프를 그려보자. 거북이를 싸인값에 따라서 움직이면 된다."
      ]
    },
    {
      "cell_type": "code",
      "metadata": {
        "id": "oO8I6ZmqebPF"
      },
      "source": [
        "import turtle\n",
        "import math\n",
        "\n",
        "t= turtle.Turtle()\n",
        "t.shape(\"turtle\")\n",
        "t.color('red', 'yellow')\n",
        "for x in range(0, 360):\n",
        "      t.goto(x,200*math.sin(x*3.14/180))"
      ],
      "execution_count": null,
      "outputs": []
    }
  ]
}