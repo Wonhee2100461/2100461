{
  "nbformat": 4,
  "nbformat_minor": 0,
  "metadata": {
    "colab": {
      "name": "11.22  .ipynb",
      "provenance": [],
      "collapsed_sections": [],
      "authorship_tag": "ABX9TyP+tPVyzyh6kU3RJDHsx43M",
      "include_colab_link": true
    },
    "kernelspec": {
      "name": "python3",
      "display_name": "Python 3"
    },
    "language_info": {
      "name": "python"
    }
  },
  "cells": [
    {
      "cell_type": "markdown",
      "metadata": {
        "id": "view-in-github",
        "colab_type": "text"
      },
      "source": [
        "<a href=\"https://colab.research.google.com/github/Wonhee2100461/2100461/blob/main/11_22_.ipynb\" target=\"_parent\"><img src=\"https://colab.research.google.com/assets/colab-badge.svg\" alt=\"Open In Colab\"/></a>"
      ]
    },
    {
      "cell_type": "code",
      "metadata": {
        "id": "A-JItWO1_JKR"
      },
      "source": [
        "print(\"never gonna give u up\")\n"
      ],
      "execution_count": null,
      "outputs": []
    },
    {
      "cell_type": "code",
      "metadata": {
        "colab": {
          "base_uri": "https://localhost:8080/"
        },
        "id": "5PVjdFcoCspj",
        "outputId": "ba0e922a-b592-4fe9-e23f-20119eee5864"
      },
      "source": [
        "age=19\n",
        "if age<=30 and age <=50:\n",
        "   print(\"20살 미만\")\n",
        "else:\n",
        "   print(\"20살 이상\")"
      ],
      "execution_count": 8,
      "outputs": [
        {
          "output_type": "stream",
          "name": "stdout",
          "text": [
            "20살 미만\n"
          ]
        }
      ]
    },
    {
      "cell_type": "code",
      "metadata": {
        "colab": {
          "base_uri": "https://localhost:8080/"
        },
        "id": "3AbLxeYSEen8",
        "outputId": "5362f465-bb5b-4b20-e53c-d7c1391b4e69"
      },
      "source": [
        "temp=int(input(\"현재 온도를 입력하시오.\"))\n",
        "\n",
        "if temp >=25:\n",
        "   print(\"반바지를 입어요.\")\n",
        "else:\n",
        "   print(\"긴바지를 입어요.\")"
      ],
      "execution_count": 9,
      "outputs": [
        {
          "output_type": "stream",
          "name": "stdout",
          "text": [
            "현재 온도를 입력하시오.30\n",
            "반바지를 입어요.\n"
          ]
        }
      ]
    },
    {
      "cell_type": "code",
      "metadata": {
        "colab": {
          "base_uri": "https://localhost:8080/"
        },
        "id": "CTt_rX9FFEbs",
        "outputId": "2d27a5b0-f1cd-45bc-c6bd-729281d1ca49"
      },
      "source": [
        "score=int(input(\"점수를 입력하시오: \"))\n",
        "if score >= 90:\n",
        "   print(\"A에요.\")\n",
        "elif score >= 80:\n",
        "   print(\"B에요.\")\n",
        "elif score >= 70:\n",
        "   print(\"C에요.\")\n",
        "elif score >= 60:\n",
        "   print(\"D에요.\")\n",
        "else:\n",
        "  print(\"F에요.\")"
      ],
      "execution_count": 37,
      "outputs": [
        {
          "output_type": "stream",
          "name": "stdout",
          "text": [
            "점수를 입력하시오: 90\n",
            "A에요.\n"
          ]
        }
      ]
    },
    {
      "cell_type": "code",
      "metadata": {
        "colab": {
          "base_uri": "https://localhost:8080/"
        },
        "id": "PzGOQiBwHJUd",
        "outputId": "5df2d808-cce5-45e4-ded3-acad95a0c109"
      },
      "source": [
        "import random\n",
        "x=random.randint(1,100)\n",
        "y=random.randint(1,100)\n",
        "\n",
        "answer=int(input(str(x)+\"-\"+str(y)+\"=\"))\n",
        "if answer ==x-y:\n",
        "   print(\"맞았습니다.\")\n",
        "else:\n",
        "  print(\"틀렸습니다.\")"
      ],
      "execution_count": 18,
      "outputs": [
        {
          "output_type": "stream",
          "name": "stdout",
          "text": [
            "27-82=1\n",
            "틀렸습니다.\n"
          ]
        }
      ]
    },
    {
      "cell_type": "code",
      "metadata": {
        "colab": {
          "base_uri": "https://localhost:8080/"
        },
        "id": "NN7BN2GwI5a-",
        "outputId": "76189b38-9a67-4ce5-b445-e80117e16d6b"
      },
      "source": [
        "n = int(input(\"정수를 입력하시오: \"))\n",
        "if n%2 == 0 and n%3 == 0:\n",
        "  print(\"2와 3으로 나누어 떨어져요.\")\n",
        "else:\n",
        "  print(\"안되요\")"
      ],
      "execution_count": 44,
      "outputs": [
        {
          "output_type": "stream",
          "name": "stdout",
          "text": [
            "정수를 입력하시오: 7\n",
            "안되요\n"
          ]
        }
      ]
    },
    {
      "cell_type": "code",
      "metadata": {
        "id": "YzKW_FS7L8T1"
      },
      "source": [
        "for=i in range(2,101):\n",
        "    if i%2=0:\n",
        "       print(i,end=\"\")"
      ],
      "execution_count": null,
      "outputs": []
    }
  ]
}