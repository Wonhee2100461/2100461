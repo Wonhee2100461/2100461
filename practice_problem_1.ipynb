{
  "nbformat": 4,
  "nbformat_minor": 0,
  "metadata": {
    "colab": {
      "name": "practice problem 1.ipynb",
      "provenance": [],
      "authorship_tag": "ABX9TyPPVOU0/cGaAwqzByfzCbgG",
      "include_colab_link": true
    },
    "kernelspec": {
      "name": "python3",
      "display_name": "Python 3"
    },
    "language_info": {
      "name": "python"
    }
  },
  "cells": [
    {
      "cell_type": "markdown",
      "metadata": {
        "id": "view-in-github",
        "colab_type": "text"
      },
      "source": [
        "<a href=\"https://colab.research.google.com/github/Wonhee2100461/2100461/blob/main/practice_problem_1.ipynb\" target=\"_parent\"><img src=\"https://colab.research.google.com/assets/colab-badge.svg\" alt=\"Open In Colab\"/></a>"
      ]
    },
    {
      "cell_type": "markdown",
      "metadata": {
        "id": "0vK9gQkButb5"
      },
      "source": [
        "1.\"환영합니다.\", \"파이썬의 세계에 오신 것을 환영합니다.\", \"파이썬은 강력합니다.\"를 화면에 출력하는 프로그램을 작성하시오. 스크립트 모드로 실행한다."
      ]
    },
    {
      "cell_type": "code",
      "metadata": {
        "id": "RclnpLeHaQpb"
      },
      "source": [
        "print(\"환영합니다.\")\n",
        "print(\"파이썬의 세계에 오신 것을 환영합니다.\")\n",
        "print(\"파이썬은 강력합니다.\")"
      ],
      "execution_count": null,
      "outputs": []
    },
    {
      "cell_type": "markdown",
      "metadata": {
        "id": "r8bvEzzCu1ex"
      },
      "source": [
        "2. print(\"반갑습니다. 파이썬!\")"
      ]
    },
    {
      "cell_type": "code",
      "metadata": {
        "id": "B16eK-ETdFYl"
      },
      "source": [
        "print(\"반갑습니다. 파이썬!\")\n",
        "print(0.6)\n",
        "print(\"Hello World!!\")"
      ],
      "execution_count": null,
      "outputs": []
    },
    {
      "cell_type": "markdown",
      "metadata": {
        "id": "TdT5pqgpu5L6"
      },
      "source": [
        "3. 파이썬 쉘을 사용하여서 한 주가 몇 시간에 해당하는지를 계산해보자."
      ]
    },
    {
      "cell_type": "code",
      "metadata": {
        "id": "FenAnIrFdWN7"
      },
      "source": [
        "print(7*24)"
      ],
      "execution_count": null,
      "outputs": []
    },
    {
      "cell_type": "markdown",
      "metadata": {
        "id": "pOlZU8wcvF1Y"
      },
      "source": [
        "4. 터틀 그래픽에서 거북이를 이동시켜서 다음과 같은 그림을 그려보자. right(), left()함수만을 사용한다."
      ]
    },
    {
      "cell_type": "code",
      "metadata": {
        "id": "lnzMOBIBdams"
      },
      "source": [
        "import turtle\n",
        "t=turtle.Turtle()\n",
        "t.shape(\"turtle\")\n",
        "t.forward(100);\n",
        "t.left(90);\n",
        "t.forward(100);\n",
        "t.right(90);\n",
        "t.forward(100);\n",
        "t.right(90);\n",
        "t.forward(100);\n",
        "t.left(90);\n",
        "t.forward(100);\n",
        "exitonclick()"
      ],
      "execution_count": null,
      "outputs": []
    },
    {
      "cell_type": "markdown",
      "metadata": {
        "id": "q4zGFErOvLLR"
      },
      "source": [
        "5. 터틀 그래퍽에서 width() 함수를 호촐하면 거븍이가그러는 선의 두께를 두껍게 한다\n",
        "거븍이를 이동하여서 다음과 같이 두께가 10인 선을 그려보자."
      ]
    },
    {
      "cell_type": "code",
      "metadata": {
        "id": "qBnnHBB9wu2A"
      },
      "source": [
        "import turtle\n",
        "t = turtle.Turtle()\n",
        "t.shape(\"turtle\")\n",
        "t.color(\"blue\")\n",
        "t.forward(100)\n",
        "t._screen.exitonclick()"
      ],
      "execution_count": null,
      "outputs": []
    },
    {
      "cell_type": "markdown",
      "metadata": {
        "id": "2A0b2SI7v8qI"
      },
      "source": [
        "6. 터틀 그래픽에서 color() 함수를 호출하면 거북이가 그리는 선의 색상을 변경할 수 있다. 색상을 파랑색으로 변경하여서 다음과 같이 길이가 100픽셀인 선을 그려보자."
      ]
    },
    {
      "cell_type": "code",
      "metadata": {
        "id": "WwazjECOgpgj"
      },
      "source": [
        "import turtle\n",
        "t = turtle.Turtle()\n",
        "t.shape(\"turtle\")\n",
        "t.width(10)\n",
        "t.forward(100)\n",
        "t.left(90)\n",
        "t.forward(100)\n",
        "t._screen.exitonclick()"
      ],
      "execution_count": null,
      "outputs": []
    },
    {
      "cell_type": "markdown",
      "metadata": {
        "id": "_Bt1nO5YvoV5"
      },
      "source": [
        "7. 터틀그래픽에서는거북이의 모양을 삼각형, 원, 삼각형, 사각형으로 변경할 수 있다. 다\n",
        "음과 같이 shape() 함수를 사용하면 된다 사각헝으로 변경하고 100퍽셸 길이의 직선을\n",
        "그러보자."
      ]
    },
    {
      "cell_type": "code",
      "metadata": {
        "id": "p_wbxtZ2guBE"
      },
      "source": [
        "import turtle\n",
        "t = turtle.Turtle()\n",
        "t.shape(\"turtle\")\n",
        "t.shape(\"square\")\n",
        "t.forward(100)\n",
        "t._screen.exitonclick()"
      ],
      "execution_count": null,
      "outputs": []
    },
    {
      "cell_type": "markdown",
      "metadata": {
        "id": "S5GUOmLXvlNg"
      },
      "source": [
        "8. 터틀 그래픽에서 거북이가 이동할 떄 선이 그려지지 않게 하려면 t.up()하여 펜을 들 수 있다. 반대로 t.down()은 펜을 내려놓는 명령어이다. 거북이를 화면 좌표 (100,200)으로 이동시키려면 t.goto(100,200)을 호출한다. 이들 명형어를 조합하여 다음과 같은 그림을 그려보자."
      ]
    },
    {
      "cell_type": "code",
      "metadata": {
        "id": "odvDeigKgv6s"
      },
      "source": [
        "import turtle\n",
        "t = turtle.Turtle()\n",
        "t.shape(\"turtle\")\n",
        "t.up()\n",
        "t.goto(0, 0)\n",
        "t.down()\n",
        "t.forward(100);\n",
        "\n",
        "t.up()\n",
        "t.goto(0, 100)\n",
        "t.down()\n",
        "t.forward(100);\n",
        "t._screen.exitonclick()"
      ],
      "execution_count": null,
      "outputs": []
    },
    {
      "cell_type": "markdown",
      "metadata": {
        "id": "AYwiC_54vbKA"
      },
      "source": [
        "9. 터틀 그래픽에서 t.circle(100)이라고 입력하고 싷랳하면 화면에 반지름이 100인 원이 그려진다. 이들 명령어를 조합하여 화면에 오륜기를 그리는 프로그램을 작성해보자."
      ]
    },
    {
      "cell_type": "code",
      "metadata": {
        "id": "0-YOzyscgx6M"
      },
      "source": [
        "import turtle\n",
        "t = turtle.Turtle()\n",
        "t.shape(\"turtle\")\n",
        "t.up()\n",
        "t.goto(0, 0)\n",
        "t.down()\n",
        "t.forward(100);\n",
        "\n",
        "t.up()\n",
        "t.goto(0, 100)\n",
        "t.down()\n",
        "t.forward(100);\n",
        "t._screen.exitonclick()"
      ],
      "execution_count": null,
      "outputs": []
    }
  ]
}